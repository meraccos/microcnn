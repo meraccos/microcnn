{
 "cells": [
  {
   "cell_type": "code",
   "execution_count": 1,
   "metadata": {},
   "outputs": [
    {
     "data": {
      "text/plain": [
       "[3, 2, 1, 5, 7]"
      ]
     },
     "execution_count": 1,
     "metadata": {},
     "output_type": "execute_result"
    }
   ],
   "source": [
    "import numpy as np\n",
    "import random\n",
    "\n",
    "a = [3, 2, 1, 5, 7]\n",
    "b = [2, 1, 0, 4, 6]\n",
    "\n",
    "zipped = list(zip(a, b))\n",
    "\n",
    "unzipped = list(zip(*zipped))\n",
    "aa, bb = unzipped\n",
    "list(aa)"
   ]
  },
  {
   "cell_type": "code",
   "execution_count": 1,
   "metadata": {},
   "outputs": [
    {
     "ename": "NameError",
     "evalue": "name 'np' is not defined",
     "output_type": "error",
     "traceback": [
      "\u001b[0;31m---------------------------------------------------------------------------\u001b[0m",
      "\u001b[0;31mNameError\u001b[0m                                 Traceback (most recent call last)",
      "Cell \u001b[0;32mIn[1], line 2\u001b[0m\n\u001b[1;32m      1\u001b[0m a \u001b[39m=\u001b[39m \u001b[39m4.0\u001b[39m\n\u001b[0;32m----> 2\u001b[0m b \u001b[39m=\u001b[39m np\u001b[39m.\u001b[39mtanh(a)\n\u001b[1;32m      3\u001b[0m b\u001b[39m.\u001b[39mzero_grad()\n",
      "\u001b[0;31mNameError\u001b[0m: name 'np' is not defined"
     ]
    }
   ],
   "source": [
    "a = 4.0\n",
    "b = np.tanh(a)\n",
    "b.zero_grad()"
   ]
  },
  {
   "cell_type": "code",
   "execution_count": 28,
   "metadata": {},
   "outputs": [
    {
     "data": {
      "text/plain": [
       "float"
      ]
     },
     "execution_count": 28,
     "metadata": {},
     "output_type": "execute_result"
    }
   ],
   "source": [
    "import math\n",
    "b = math.tanh(a)\n",
    "type(b)"
   ]
  },
  {
   "cell_type": "code",
   "execution_count": 42,
   "metadata": {},
   "outputs": [
    {
     "data": {
      "text/plain": [
       "0.47120055290911317"
      ]
     },
     "execution_count": 42,
     "metadata": {},
     "output_type": "execute_result"
    }
   ],
   "source": [
    "np.random.randn()\n",
    "random.gauss()"
   ]
  },
  {
   "cell_type": "code",
   "execution_count": 1,
   "metadata": {},
   "outputs": [
    {
     "name": "stdout",
     "output_type": "stream",
     "text": [
      "Value(data: 0.462, grad: 0.000, op: /, children: ['1.042', '2.255'])\n"
     ]
    },
    {
     "data": {
      "text/plain": [
       "Value(data: 0.500, grad: 0.786, op: None)"
      ]
     },
     "execution_count": 1,
     "metadata": {},
     "output_type": "execute_result"
    }
   ],
   "source": [
    "from microcnn.value import Value\n",
    "from microcnn.nn import Tanh\n",
    "\n",
    "# a = [Value(2.0), Value(3.0), Value(5.0)]\n",
    "\n",
    "# sum(a)\n",
    "a = Value(3.0)\n",
    "\n",
    "b = Value(0.5)\n",
    "\n",
    "# c = b ** 2 + a ** 3\n",
    "\n",
    "c = Tanh.forward(b)\n",
    "\n",
    "c.grad=1.0\n",
    "c.backward()\n",
    "b"
   ]
  },
  {
   "cell_type": "code",
   "execution_count": 16,
   "metadata": {},
   "outputs": [
    {
     "data": {
      "text/plain": [
       "Value(data: 1.000, grad: 2.718, op: None)"
      ]
     },
     "execution_count": 16,
     "metadata": {},
     "output_type": "execute_result"
    }
   ],
   "source": [
    "from microcnn.value import Value\n",
    "from microcnn.nn import Tanh\n",
    "import math\n",
    "\n",
    "# a = [Value(2.0), Value(3.0), Value(5.0)]\n",
    "\n",
    "# sum(a)\n",
    "a = Value(1.0)\n",
    "\n",
    "# c = b ** 2 + a ** 3\n",
    "\n",
    "b = math.e ** a\n",
    "b.grad = 1.0\n",
    "b.backward()\n",
    "a\n",
    "\n"
   ]
  }
 ],
 "metadata": {
  "kernelspec": {
   "display_name": "Python 3",
   "language": "python",
   "name": "python3"
  },
  "language_info": {
   "codemirror_mode": {
    "name": "ipython",
    "version": 3
   },
   "file_extension": ".py",
   "mimetype": "text/x-python",
   "name": "python",
   "nbconvert_exporter": "python",
   "pygments_lexer": "ipython3",
   "version": "3.11.3"
  },
  "orig_nbformat": 4
 },
 "nbformat": 4,
 "nbformat_minor": 2
}
