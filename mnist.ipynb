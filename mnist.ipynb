{
 "cells": [
  {
   "cell_type": "code",
   "execution_count": 13,
   "metadata": {},
   "outputs": [
    {
     "name": "stdout",
     "output_type": "stream",
     "text": [
      "[0, 1]\n",
      "[5, 0]\n",
      "[[0, 0, 0, 0, 0, 1.0, 0, 0, 0, 0], [1.0, 0, 0, 0, 0, 0, 0, 0, 0, 0]]\n"
     ]
    },
    {
     "ename": "TypeError",
     "evalue": "'int' object is not iterable",
     "output_type": "error",
     "traceback": [
      "\u001b[0;31m---------------------------------------------------------------------------\u001b[0m",
      "\u001b[0;31mTypeError\u001b[0m                                 Traceback (most recent call last)",
      "Cell \u001b[0;32mIn[13], line 40\u001b[0m\n\u001b[1;32m     37\u001b[0m loss_fc \u001b[39m=\u001b[39m nn\u001b[39m.\u001b[39mCrossEntropyLoss()\n\u001b[1;32m     38\u001b[0m optimizer \u001b[39m=\u001b[39m nn\u001b[39m.\u001b[39mSGD()\n\u001b[0;32m---> 40\u001b[0m train(model\u001b[39m=\u001b[39;49mmodel, X_all\u001b[39m=\u001b[39;49mimage_data_list, y_all\u001b[39m=\u001b[39;49mimage_label_list, n_epochs\u001b[39m=\u001b[39;49m\u001b[39m800\u001b[39;49m, batch_size \u001b[39m=\u001b[39;49m \u001b[39m8\u001b[39;49m, loss_fc\u001b[39m=\u001b[39;49mloss_fc, optimizer\u001b[39m=\u001b[39;49moptimizer)\n",
      "File \u001b[0;32m~/workspace/mynetwork/utils.py:20\u001b[0m, in \u001b[0;36mtrain\u001b[0;34m(model, X_all, y_all, n_epochs, batch_size, loss_fc, optimizer)\u001b[0m\n\u001b[1;32m     16\u001b[0m model_out \u001b[39m=\u001b[39m model\u001b[39m.\u001b[39mforward(X)\n\u001b[1;32m     17\u001b[0m \u001b[39m# model_out = Softmax.forward(model_out)\u001b[39;00m\n\u001b[0;32m---> 20\u001b[0m loss \u001b[39m=\u001b[39m loss_fc\u001b[39m.\u001b[39;49mforward(model_out, y)\n\u001b[1;32m     21\u001b[0m loss\u001b[39m.\u001b[39mbackward(grad\u001b[39m=\u001b[39m\u001b[39m1.0\u001b[39m)\n\u001b[1;32m     23\u001b[0m epoch_loss \u001b[39m+\u001b[39m\u001b[39m=\u001b[39m loss\u001b[39m.\u001b[39mdata\n",
      "File \u001b[0;32m~/workspace/mynetwork/microcnn/nn.py:73\u001b[0m, in \u001b[0;36mCrossEntropyLoss.forward\u001b[0;34m(self, Y_pred, Y_gt)\u001b[0m\n\u001b[1;32m     72\u001b[0m \u001b[39mdef\u001b[39;00m \u001b[39mforward\u001b[39m(\u001b[39mself\u001b[39m, Y_pred, Y_gt):\n\u001b[0;32m---> 73\u001b[0m     diff_CE \u001b[39m=\u001b[39m \u001b[39msum\u001b[39m(y_gt \u001b[39m*\u001b[39m y_pred\u001b[39m.\u001b[39mlog() \u001b[39mfor\u001b[39;00m y_pred, y_gt \u001b[39min\u001b[39;00m \u001b[39mzip\u001b[39;49m(Y_pred, Y_gt))\n\u001b[1;32m     74\u001b[0m     loss \u001b[39m=\u001b[39m \u001b[39m-\u001b[39mdiff_CE\n\u001b[1;32m     75\u001b[0m     \u001b[39mreturn\u001b[39;00m loss\n",
      "\u001b[0;31mTypeError\u001b[0m: 'int' object is not iterable"
     ]
    }
   ],
   "source": [
    "import math\n",
    "import numpy as np\n",
    "from graphviz import Source\n",
    "\n",
    "from utils import to_dot, train\n",
    "from microcnn.value import Value\n",
    "from microcnn import nn\n",
    "\n",
    "import torchvision.datasets as datasets\n",
    "\n",
    "mnist_trainset = datasets.MNIST(root='./data', train=True, download=True, transform=None)\n",
    "\n",
    "t_data_idx = list(range(2))\n",
    "\n",
    "image_data_list = [list(mnist_trainset[i][0].getdata()) for i in t_data_idx]\n",
    "image_labels = [mnist_trainset[i][1] for i in t_data_idx]\n",
    "img_label_list = [[1.0 if i == label else 0 for i in range(10)] for label in image_labels]\n",
    "\n",
    "image_data_list = [[image[0]/784-1] for image in image_data_list]\n",
    "\n",
    "model = nn.Model(\n",
    "    [\n",
    "        nn.Layer(n_inputs=784, n_neurons=16, act_fn=nn.Tanh()),\n",
    "        # nn.Layer(n_inputs=16, n_neurons=16, act_fn=nn.Tanh()),\n",
    "        nn.Layer(n_inputs=16, n_neurons=10, act_fn=None),\n",
    "    ]\n",
    ")\n",
    "\n",
    "\n",
    "# loss_fc = nn.RMSLoss()\n",
    "loss_fc = nn.CrossEntropyLoss()\n",
    "optimizer = nn.SGD()\n",
    "\n",
    "train(model=model, X_all=image_data_list, y_all=image_label_list, n_epochs=800, batch_size = 8, loss_fc=loss_fc, optimizer=optimizer)\n"
   ]
  },
  {
   "cell_type": "code",
   "execution_count": null,
   "metadata": {},
   "outputs": [],
   "source": []
  }
 ],
 "metadata": {
  "kernelspec": {
   "display_name": "Python 3",
   "language": "python",
   "name": "python3"
  },
  "language_info": {
   "codemirror_mode": {
    "name": "ipython",
    "version": 3
   },
   "file_extension": ".py",
   "mimetype": "text/x-python",
   "name": "python",
   "nbconvert_exporter": "python",
   "pygments_lexer": "ipython3",
   "version": "3.11.3"
  },
  "orig_nbformat": 4
 },
 "nbformat": 4,
 "nbformat_minor": 2
}
