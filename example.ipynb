{
 "cells": [
  {
   "cell_type": "code",
   "execution_count": null,
   "metadata": {},
   "outputs": [],
   "source": [
    "import math\n",
    "import numpy as np\n",
    "from graphviz import Source\n",
    "\n",
    "from utils import to_dot, train\n",
    "from value import Value\n",
    "import nn"
   ]
  },
  {
   "cell_type": "code",
   "execution_count": null,
   "metadata": {},
   "outputs": [],
   "source": [
    "model = nn.Model(\n",
    "    [\n",
    "        nn.Layer(n_inputs=2, n_neurons=8, act_fn=nn.Tanh),\n",
    "        nn.Layer(n_inputs=8, n_neurons=1, act_fn=nn.Tanh),\n",
    "    ]\n",
    ")\n",
    "\n",
    "# X = [Value(i) for i in np.arange(1, 100, 1.5)]\n",
    "X = [Value(1.0), Value(2.0)]\n",
    "y = Value(0.8)\n",
    "\n",
    "loss_fc = nn.RMSLoss\n",
    "optimizer = nn.SGD\n",
    "\n",
    "train(model=model, X=X, y=y, n_epochs=500, loss_fc=loss_fc, optimizer=optimizer)\n",
    "\n",
    "# dot = to_dot(loss)\n",
    "# Source(dot.source)"
   ]
  }
 ],
 "metadata": {
  "kernelspec": {
   "display_name": "Python 3",
   "language": "python",
   "name": "python3"
  },
  "language_info": {
   "codemirror_mode": {
    "name": "ipython",
    "version": 3
   },
   "file_extension": ".py",
   "mimetype": "text/x-python",
   "name": "python",
   "nbconvert_exporter": "python",
   "pygments_lexer": "ipython3",
   "version": "3.11.3"
  },
  "orig_nbformat": 4
 },
 "nbformat": 4,
 "nbformat_minor": 2
}
