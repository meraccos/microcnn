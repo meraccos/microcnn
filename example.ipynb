{
 "cells": [
  {
   "cell_type": "code",
   "execution_count": 1,
   "metadata": {},
   "outputs": [],
   "source": [
    "import math\n",
    "import numpy as np\n",
    "from graphviz import Source\n",
    "\n",
    "from utils import to_dot, train\n",
    "from microcnn.value import Value\n",
    "from microcnn import nn"
   ]
  },
  {
   "cell_type": "code",
   "execution_count": 1,
   "metadata": {},
   "outputs": [
    {
     "ename": "NameError",
     "evalue": "name 'nn' is not defined",
     "output_type": "error",
     "traceback": [
      "\u001b[0;31m---------------------------------------------------------------------------\u001b[0m",
      "\u001b[0;31mNameError\u001b[0m                                 Traceback (most recent call last)",
      "Cell \u001b[0;32mIn[1], line 1\u001b[0m\n\u001b[0;32m----> 1\u001b[0m model \u001b[39m=\u001b[39m nn\u001b[39m.\u001b[39mModel(\n\u001b[1;32m      2\u001b[0m     [\n\u001b[1;32m      3\u001b[0m         nn\u001b[39m.\u001b[39mLayer(n_inputs\u001b[39m=\u001b[39m\u001b[39m1\u001b[39m, n_neurons\u001b[39m=\u001b[39m\u001b[39m2\u001b[39m, act_fn\u001b[39m=\u001b[39mnn\u001b[39m.\u001b[39mReLU()),\n\u001b[1;32m      4\u001b[0m         nn\u001b[39m.\u001b[39mLayer(n_inputs\u001b[39m=\u001b[39m\u001b[39m2\u001b[39m, n_neurons\u001b[39m=\u001b[39m\u001b[39m2\u001b[39m, act_fn\u001b[39m=\u001b[39mnn\u001b[39m.\u001b[39mTanh()),\n\u001b[1;32m      5\u001b[0m         nn\u001b[39m.\u001b[39mLayer(n_inputs\u001b[39m=\u001b[39m\u001b[39m2\u001b[39m, n_neurons\u001b[39m=\u001b[39m\u001b[39m1\u001b[39m, act_fn\u001b[39m=\u001b[39m\u001b[39mNone\u001b[39;00m),\n\u001b[1;32m      6\u001b[0m         \u001b[39m# nn.Layer(n_inputs=1, n_neurons=1, act_fn=act_fn),\u001b[39;00m\n\u001b[1;32m      7\u001b[0m         \u001b[39m# nn.Layer(n_inputs=1, n_neurons=1, act_fn=act_fn),\u001b[39;00m\n\u001b[1;32m      8\u001b[0m     ]\n\u001b[1;32m      9\u001b[0m )\n\u001b[1;32m     11\u001b[0m X \u001b[39m=\u001b[39m [[\u001b[39m0.2\u001b[39m], [\u001b[39m0.3\u001b[39m], [\u001b[39m0.4\u001b[39m], [\u001b[39m0.45\u001b[39m]]\n\u001b[1;32m     12\u001b[0m y \u001b[39m=\u001b[39m [[\u001b[39m0.4\u001b[39m], [\u001b[39m0.6\u001b[39m], [\u001b[39m0.8\u001b[39m], [\u001b[39m0.9\u001b[39m]]\n",
      "\u001b[0;31mNameError\u001b[0m: name 'nn' is not defined"
     ]
    }
   ],
   "source": [
    "model = nn.Model(\n",
    "    [\n",
    "        nn.Layer(n_inputs=1, n_neurons=2, act_fn=nn.ReLU()),\n",
    "        nn.Layer(n_inputs=2, n_neurons=2, act_fn=nn.Tanh()),\n",
    "        nn.Layer(n_inputs=2, n_neurons=1, act_fn=None),\n",
    "        # nn.Layer(n_inputs=1, n_neurons=1, act_fn=act_fn),\n",
    "        # nn.Layer(n_inputs=1, n_neurons=1, act_fn=act_fn),\n",
    "    ]\n",
    ")\n",
    "\n",
    "X = [[0.2], [0.3], [0.4], [0.45]]\n",
    "y = [[0.4], [0.6], [0.8], [0.9]]\n",
    "\n",
    "loss_fc = nn.RMSLoss()\n",
    "optimizer = nn.SGD()\n",
    "\n",
    "model, loss = train(model=model, X_all=X, y_all=y, n_epochs=1, batch_size = 32, loss_fc=loss_fc, optimizer=optimizer)\n",
    "\n",
    "\n",
    "# dot = to_dot(loss)\n",
    "# Source(dot.source)"
   ]
  },
  {
   "cell_type": "code",
   "execution_count": null,
   "metadata": {},
   "outputs": [],
   "source": []
  }
 ],
 "metadata": {
  "kernelspec": {
   "display_name": "Python 3",
   "language": "python",
   "name": "python3"
  },
  "language_info": {
   "codemirror_mode": {
    "name": "ipython",
    "version": 3
   },
   "file_extension": ".py",
   "mimetype": "text/x-python",
   "name": "python",
   "nbconvert_exporter": "python",
   "pygments_lexer": "ipython3",
   "version": "3.11.3"
  },
  "orig_nbformat": 4
 },
 "nbformat": 4,
 "nbformat_minor": 2
}
