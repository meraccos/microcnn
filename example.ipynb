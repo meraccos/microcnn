{
 "cells": [
  {
   "cell_type": "code",
   "execution_count": 1,
   "metadata": {},
   "outputs": [],
   "source": [
    "import math\n",
    "import numpy as np\n",
    "from graphviz import Source\n",
    "\n",
    "\n",
    "from value import Value\n",
    "import nn\n",
    "\n",
    "from utils import to_dot\n"
   ]
  },
  {
   "cell_type": "code",
   "execution_count": 23,
   "metadata": {},
   "outputs": [
    {
     "name": "stdout",
     "output_type": "stream",
     "text": [
      "loss: 0.800, out: 0.000\n",
      "loss: 0.800, out: 0.000\n",
      "loss: 0.800, out: 0.000\n",
      "loss: 0.800, out: 0.000\n",
      "loss: 0.800, out: 0.000\n",
      "loss: 0.800, out: 0.000\n",
      "loss: 0.800, out: 0.000\n",
      "loss: 0.800, out: 0.000\n",
      "loss: 0.800, out: 0.000\n",
      "loss: 0.800, out: 0.000\n",
      "loss: 0.800, out: 0.000\n",
      "loss: 0.800, out: 0.000\n",
      "loss: 0.800, out: 0.000\n",
      "loss: 0.800, out: 0.000\n",
      "loss: 0.800, out: 0.000\n",
      "loss: 0.800, out: 0.000\n",
      "loss: 0.800, out: 0.000\n",
      "loss: 0.800, out: 0.000\n",
      "loss: 0.800, out: 0.000\n",
      "loss: 0.800, out: 0.000\n",
      "loss: 0.800, out: 0.000\n",
      "loss: 0.800, out: 0.000\n",
      "loss: 0.800, out: 0.000\n",
      "loss: 0.800, out: 0.000\n",
      "loss: 0.800, out: 0.000\n",
      "loss: 0.800, out: 0.000\n",
      "loss: 0.800, out: 0.000\n",
      "loss: 0.800, out: 0.000\n",
      "loss: 0.800, out: 0.000\n",
      "loss: 0.800, out: 0.000\n",
      "loss: 0.800, out: 0.000\n",
      "loss: 0.800, out: 0.000\n",
      "loss: 0.800, out: 0.000\n",
      "loss: 0.800, out: 0.000\n",
      "loss: 0.800, out: 0.000\n",
      "loss: 0.800, out: 0.000\n",
      "loss: 0.800, out: 0.000\n",
      "loss: 0.800, out: 0.000\n",
      "loss: 0.800, out: 0.000\n",
      "loss: 0.800, out: 0.000\n",
      "loss: 0.800, out: 0.000\n",
      "loss: 0.800, out: 0.000\n",
      "loss: 0.800, out: 0.000\n",
      "loss: 0.800, out: 0.000\n",
      "loss: 0.800, out: 0.000\n",
      "loss: 0.800, out: 0.000\n",
      "loss: 0.800, out: 0.000\n",
      "loss: 0.800, out: 0.000\n",
      "loss: 0.800, out: 0.000\n",
      "loss: 0.800, out: 0.000\n"
     ]
    }
   ],
   "source": [
    "model = nn.Model([\n",
    "    nn.Layer(n_inputs=2, n_neurons=8, act_fn=nn.Tanh),\n",
    "    nn.Layer(n_inputs=8, n_neurons=1, act_fn=nn.ReLU)])\n",
    "\n",
    "# X = [Value(i) for i in np.arange(1, 100, 1.5)]\n",
    "X = [Value(1.0), Value(2.0)]\n",
    "y = Value(0.8)\n",
    "\n",
    "loss_fc = nn.RMSLoss\n",
    "optimizer = nn.SGD\n",
    "\n",
    "\n",
    "for epoch in range(500):\n",
    "    model_out = model.forward(X)\n",
    "    \n",
    "    loss = loss_fc.forward(model_out[0], y)\n",
    "\n",
    "    loss.zero_grad()\n",
    "    # loss.grad = 1.0\n",
    "    loss.backward(grad=1.0)\n",
    "\n",
    "    optimizer.forward(model.parameters())\n",
    "    \n",
    "    if epoch % 10 == 0: print(f\"loss: {loss.data:.3f}, out: {model_out[0].data:.3f}\")\n",
    "\n",
    "# dot = to_dot(loss)\n",
    "# Source(dot.source)"
   ]
  }
 ],
 "metadata": {
  "kernelspec": {
   "display_name": "Python 3",
   "language": "python",
   "name": "python3"
  },
  "language_info": {
   "codemirror_mode": {
    "name": "ipython",
    "version": 3
   },
   "file_extension": ".py",
   "mimetype": "text/x-python",
   "name": "python",
   "nbconvert_exporter": "python",
   "pygments_lexer": "ipython3",
   "version": "3.11.3"
  },
  "orig_nbformat": 4
 },
 "nbformat": 4,
 "nbformat_minor": 2
}
