{
 "cells": [
  {
   "cell_type": "code",
   "execution_count": 7,
   "metadata": {},
   "outputs": [],
   "source": [
    "import math\n",
    "import numpy as np\n",
    "from graphviz import Source\n",
    "\n",
    "\n",
    "from value import Value\n",
    "import nn\n",
    "\n",
    "from utils import to_dot\n"
   ]
  },
  {
   "cell_type": "code",
   "execution_count": 9,
   "metadata": {},
   "outputs": [
    {
     "name": "stdout",
     "output_type": "stream",
     "text": [
      "loss: 11.874, out: 1.126\n",
      "loss: 11.369, out: 1.631\n",
      "loss: 10.524, out: 2.476\n",
      "loss: 9.679, out: 3.321\n",
      "loss: 8.858, out: 4.142\n",
      "loss: 8.047, out: 4.953\n",
      "loss: 7.238, out: 5.762\n",
      "loss: 6.425, out: 6.575\n",
      "loss: 5.607, out: 7.393\n",
      "loss: 4.781, out: 8.219\n",
      "loss: 3.944, out: 9.056\n",
      "loss: 3.098, out: 9.902\n",
      "loss: 2.241, out: 10.759\n",
      "loss: 1.376, out: 11.624\n",
      "loss: 0.503, out: 12.497\n",
      "loss: 0.216, out: 13.216\n",
      "loss: 0.011, out: 13.011\n",
      "loss: 0.020, out: 12.980\n",
      "loss: 0.054, out: 12.946\n",
      "loss: 0.027, out: 13.027\n",
      "loss: 0.008, out: 13.008\n",
      "loss: 0.003, out: 13.003\n",
      "loss: 0.008, out: 12.992\n",
      "loss: 0.025, out: 13.025\n",
      "loss: 0.005, out: 12.995\n",
      "loss: 0.026, out: 13.026\n",
      "loss: 0.005, out: 12.995\n",
      "loss: 0.026, out: 13.026\n",
      "loss: 0.005, out: 12.995\n",
      "loss: 0.026, out: 13.026\n",
      "loss: 0.005, out: 12.995\n",
      "loss: 0.026, out: 13.026\n",
      "loss: 0.005, out: 12.995\n",
      "loss: 0.026, out: 13.026\n",
      "loss: 0.005, out: 12.995\n",
      "loss: 0.026, out: 13.026\n",
      "loss: 0.005, out: 12.995\n",
      "loss: 0.026, out: 13.026\n",
      "loss: 0.005, out: 12.995\n",
      "loss: 0.026, out: 13.026\n",
      "loss: 0.005, out: 12.995\n",
      "loss: 0.026, out: 13.026\n",
      "loss: 0.005, out: 12.995\n",
      "loss: 0.026, out: 13.026\n",
      "loss: 0.005, out: 12.995\n",
      "loss: 0.025, out: 13.025\n",
      "loss: 0.006, out: 12.994\n",
      "loss: 0.025, out: 13.025\n",
      "loss: 0.006, out: 12.994\n",
      "loss: 0.025, out: 13.025\n"
     ]
    }
   ],
   "source": [
    "dense1 = nn.Layer(n_inputs=2, n_neurons=8, act_fn=nn.Tanh)\n",
    "dense2 = nn.Layer(n_inputs=8, n_neurons=1, act_fn=nn.ReLU)\n",
    "\n",
    "# X = [Value(i) for i in np.arange(1, 100, 1.5)]\n",
    "X = [Value(1.0), Value(2.0)]\n",
    "y = Value(13)\n",
    "\n",
    "loss_fc = nn.RMSLoss\n",
    "optimizer = nn.SGD\n",
    "\n",
    "\n",
    "for epoch in range(500):\n",
    "    dense1_out = dense1.forward(X)\n",
    "    dense2_out = dense2.forward(dense1_out)\n",
    "    \n",
    "    loss = loss_fc.forward(dense2_out[0], y)\n",
    "    \n",
    "\n",
    "    loss.zero_grad()\n",
    "    loss.grad = 1.0\n",
    "\n",
    "    loss.backward()\n",
    "\n",
    "    optimizer.forward(dense1.parameters())\n",
    "    optimizer.forward(dense2.parameters())\n",
    "    \n",
    "    if epoch % 10 == 0: print(f\"loss: {loss.data:.3f}, out: {dense2_out[0].data:.3f}\")\n",
    "\n",
    "# dot = to_dot(loss)\n",
    "# Source(dot.source)"
   ]
  },
  {
   "cell_type": "code",
   "execution_count": 12,
   "metadata": {},
   "outputs": [
    {
     "name": "stdout",
     "output_type": "stream",
     "text": [
      "loss: 1.796, out: -0.996\n",
      "loss: 1.796, out: -0.996\n",
      "loss: 1.796, out: -0.996\n",
      "loss: 1.796, out: -0.996\n",
      "loss: 1.796, out: -0.996\n"
     ]
    }
   ],
   "source": [
    "dense1 = nn.Layer(n_inputs=2, n_neurons=1, act_fn=nn.Tanh)\n",
    "\n",
    "X = [Value(1.0), Value(2.0)]\n",
    "y = 0.8\n",
    "\n",
    "loss_fc = nn.RMSLoss\n",
    "optimizer = nn.SGD\n",
    "\n",
    "\n",
    "for epoch in range(50):\n",
    "    dense1_out = dense1.forward(X)\n",
    "    loss = loss_fc.forward(dense1_out[0], y)\n",
    "    \n",
    "\n",
    "    loss.zero_grad()\n",
    "    loss.grad = 1.0\n",
    "\n",
    "    loss.backward()\n",
    "\n",
    "    optimizer.forward(dense1.parameters())\n",
    "    if epoch % 10 == 0: print(f\"loss: {loss.data:.3f}, out: {dense1_out[0].data:.3f}\")\n",
    "\n",
    "# dot = to_dot(loss)\n",
    "# Source(dot.source)"
   ]
  }
 ],
 "metadata": {
  "kernelspec": {
   "display_name": "Python 3",
   "language": "python",
   "name": "python3"
  },
  "language_info": {
   "codemirror_mode": {
    "name": "ipython",
    "version": 3
   },
   "file_extension": ".py",
   "mimetype": "text/x-python",
   "name": "python",
   "nbconvert_exporter": "python",
   "pygments_lexer": "ipython3",
   "version": "3.11.3"
  },
  "orig_nbformat": 4
 },
 "nbformat": 4,
 "nbformat_minor": 2
}
